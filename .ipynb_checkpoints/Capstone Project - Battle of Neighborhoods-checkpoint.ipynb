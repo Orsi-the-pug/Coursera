{
 "cells": [
  {
   "cell_type": "markdown",
   "metadata": {},
   "source": [
    "# Capstone Project - Battle of Neighborhoods\n",
    "## Opening a Scandinavian Restaurant in Budapest, Hungary"
   ]
  },
  {
   "cell_type": "markdown",
   "metadata": {},
   "source": [
    "### 1. Introduction/Business Problem"
   ]
  },
  {
   "cell_type": "markdown",
   "metadata": {},
   "source": [
    "The inspiration for this subject comes from personal experience, having explored Scandinavian countries over the past years. I love their culture and food, but there is little to no opportunity to experience any of that in Budapest, Hungary - which is where I currently live. The few places that do have certain elements of this cuisine lack the hygge feeling that makes the picture whole. \n",
    "\n",
    "This project aims to find the best location to open such a restaurant in Budapest, taking into consideration the fact that it would aim at serving locals as well, not just tourists. Many restaurant hotspots in Budapest are never visited by locals and are full of overpriced tourist traps, so I will avoid these, because businesses tend to fail quickly in these areas and are particulary vulnerable to situations such as the current pandemic. While there is little competition, I will be analyzing restaurants with similar cuisine, such as places specialized in serving fish or French restaurants.\n",
    "\n",
    "The data from the project could be used for a business plan later on, since I'm thinking about embarking in this adventure myself once the  pandemic is over. "
   ]
  },
  {
   "cell_type": "markdown",
   "metadata": {},
   "source": [
    "### 2. Data"
   ]
  },
  {
   "cell_type": "markdown",
   "metadata": {},
   "source": [
    "I will use the following APIs for basic data:\n",
    "\n",
    "Foursquare API: \n",
    "    To find restaurants/venues serving similar food. \n",
    "    I will do this by searching for the 5 most popular scandinavian dishes and finding restaurants that serve them.\n",
    "    \n",
    "    \n",
    "Google API: \n",
    "    Used for reverse geolocalisation.\n",
    "\n",
    "The data section is also inspired by the practice notebook in the course. I will keep the idea of clustering the city by areas, elliminate the tourist trap areas, and then plot to find a better area.\n"
   ]
  },
  {
   "cell_type": "code",
   "execution_count": null,
   "metadata": {},
   "outputs": [],
   "source": []
  }
 ],
 "metadata": {
  "kernelspec": {
   "display_name": "Python 3",
   "language": "python",
   "name": "python3"
  },
  "language_info": {
   "codemirror_mode": {
    "name": "ipython",
    "version": 3
   },
   "file_extension": ".py",
   "mimetype": "text/x-python",
   "name": "python",
   "nbconvert_exporter": "python",
   "pygments_lexer": "ipython3",
   "version": "3.7.6"
  }
 },
 "nbformat": 4,
 "nbformat_minor": 4
}
